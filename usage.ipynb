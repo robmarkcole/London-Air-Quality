{
 "cells": [
  {
   "cell_type": "code",
   "execution_count": 11,
   "metadata": {},
   "outputs": [],
   "source": [
    "import london_air_quality as laq\n",
    "import pandas as pd"
   ]
  },
  {
   "cell_type": "code",
   "execution_count": 5,
   "metadata": {},
   "outputs": [
    {
     "name": "stdout",
     "output_type": "stream",
     "text": [
      "Successfully retreived raw data\n"
     ]
    }
   ],
   "source": [
    "try:\n",
    "    hourly_data_raw = laq.request_data(laq.LAQ_HOURLY_URL)\n",
    "    print(\"Successfully retreived raw data\")\n",
    "except laq.LondonAirQualityException as exc:\n",
    "    print(exc)"
   ]
  },
  {
   "cell_type": "markdown",
   "metadata": {},
   "source": [
    "Parse the raw data"
   ]
  },
  {
   "cell_type": "code",
   "execution_count": 6,
   "metadata": {},
   "outputs": [],
   "source": [
    "hourly_data = laq.parse_hourly_response(hourly_data_raw)"
   ]
  },
  {
   "cell_type": "markdown",
   "metadata": {},
   "source": [
    "Data is indexed by borough"
   ]
  },
  {
   "cell_type": "code",
   "execution_count": 8,
   "metadata": {},
   "outputs": [
    {
     "name": "stdout",
     "output_type": "stream",
     "text": [
      "33\n"
     ]
    },
    {
     "data": {
      "text/plain": [
       "['Barking and Dagenham',\n",
       " 'Barnet',\n",
       " 'Bexley',\n",
       " 'Brent',\n",
       " 'Bromley',\n",
       " 'Camden',\n",
       " 'City of London',\n",
       " 'Croydon',\n",
       " 'Ealing',\n",
       " 'Enfield',\n",
       " 'Greenwich',\n",
       " 'Hackney',\n",
       " 'Hammersmith and Fulham',\n",
       " 'Haringey',\n",
       " 'Harrow',\n",
       " 'Havering',\n",
       " 'Hillingdon',\n",
       " 'Hounslow',\n",
       " 'Islington',\n",
       " 'Kensington and Chelsea',\n",
       " 'Kingston',\n",
       " 'Lambeth',\n",
       " 'Lewisham',\n",
       " 'Merton',\n",
       " 'Newham',\n",
       " 'Redbridge',\n",
       " 'Richmond',\n",
       " 'Southwark',\n",
       " 'Sutton',\n",
       " 'Tower Hamlets',\n",
       " 'Waltham Forest',\n",
       " 'Wandsworth',\n",
       " 'Westminster']"
      ]
     },
     "execution_count": 8,
     "metadata": {},
     "output_type": "execute_result"
    }
   ],
   "source": [
    "boroughs = list(hourly_data.keys())\n",
    "print(len(boroughs))\n",
    "boroughs"
   ]
  },
  {
   "cell_type": "markdown",
   "metadata": {},
   "source": [
    "Access the data for a borough"
   ]
  },
  {
   "cell_type": "code",
   "execution_count": 9,
   "metadata": {},
   "outputs": [
    {
     "data": {
      "text/plain": [
       "[{'updated': '2019-09-26 09:00:00',\n",
       "  'latitude': '51.4161384794862',\n",
       "  'longitude': '-0.192230805042824',\n",
       "  'site_code': 'ME2',\n",
       "  'site_name': 'Merton Road',\n",
       "  'site_type': 'Roadside',\n",
       "  'pollutants': [{'description': 'PM10 Particulate',\n",
       "    'code': 'PM10',\n",
       "    'quality': 'Low',\n",
       "    'index': '1',\n",
       "    'summary': 'PM10 is Low'}],\n",
       "  'pollutants_status': 'Low',\n",
       "  'number_of_pollutants': 1},\n",
       " {'updated': '2019-09-26 09:00:00',\n",
       "  'latitude': '51.40162',\n",
       "  'longitude': '-0.19589212',\n",
       "  'site_code': 'ME9',\n",
       "  'site_name': 'Morden Civic Centre 2',\n",
       "  'site_type': 'Roadside',\n",
       "  'pollutants': [{'description': 'Nitrogen Dioxide',\n",
       "    'code': 'NO2',\n",
       "    'quality': 'Low',\n",
       "    'index': '1',\n",
       "    'summary': 'NO2 is Low'}],\n",
       "  'pollutants_status': 'Low',\n",
       "  'number_of_pollutants': 1}]"
      ]
     },
     "execution_count": 9,
     "metadata": {},
     "output_type": "execute_result"
    }
   ],
   "source": [
    "hourly_data[\"Merton\"]"
   ]
  },
  {
   "cell_type": "markdown",
   "metadata": {},
   "source": [
    "We can get pollutants measurement data in a flat structure and put in Panads dataframe"
   ]
  },
  {
   "cell_type": "code",
   "execution_count": 12,
   "metadata": {},
   "outputs": [],
   "source": [
    "df = pd.DataFrame(laq.get_hourly_data_flat(hourly_data))"
   ]
  },
  {
   "cell_type": "code",
   "execution_count": 13,
   "metadata": {},
   "outputs": [
    {
     "data": {
      "text/html": [
       "<div>\n",
       "<style scoped>\n",
       "    .dataframe tbody tr th:only-of-type {\n",
       "        vertical-align: middle;\n",
       "    }\n",
       "\n",
       "    .dataframe tbody tr th {\n",
       "        vertical-align: top;\n",
       "    }\n",
       "\n",
       "    .dataframe thead th {\n",
       "        text-align: right;\n",
       "    }\n",
       "</style>\n",
       "<table border=\"1\" class=\"dataframe\">\n",
       "  <thead>\n",
       "    <tr style=\"text-align: right;\">\n",
       "      <th></th>\n",
       "      <th>borough</th>\n",
       "      <th>code</th>\n",
       "      <th>description</th>\n",
       "      <th>index</th>\n",
       "      <th>latitude</th>\n",
       "      <th>longitude</th>\n",
       "      <th>quality</th>\n",
       "      <th>site_code</th>\n",
       "      <th>site_name</th>\n",
       "      <th>summary</th>\n",
       "      <th>updated</th>\n",
       "    </tr>\n",
       "  </thead>\n",
       "  <tbody>\n",
       "    <tr>\n",
       "      <th>0</th>\n",
       "      <td>Barking and Dagenham</td>\n",
       "      <td>NO2</td>\n",
       "      <td>Nitrogen Dioxide</td>\n",
       "      <td>1</td>\n",
       "      <td>51.563752</td>\n",
       "      <td>0.177891</td>\n",
       "      <td>Low</td>\n",
       "      <td>BG1</td>\n",
       "      <td>Rush Green</td>\n",
       "      <td>NO2 is Low</td>\n",
       "      <td>2019-09-26 09:00:00</td>\n",
       "    </tr>\n",
       "    <tr>\n",
       "      <th>1</th>\n",
       "      <td>Barking and Dagenham</td>\n",
       "      <td>SO2</td>\n",
       "      <td>Sulphur Dioxide</td>\n",
       "      <td>1</td>\n",
       "      <td>51.563752</td>\n",
       "      <td>0.177891</td>\n",
       "      <td>Low</td>\n",
       "      <td>BG1</td>\n",
       "      <td>Rush Green</td>\n",
       "      <td>SO2 is Low</td>\n",
       "      <td>2019-09-26 09:00:00</td>\n",
       "    </tr>\n",
       "    <tr>\n",
       "      <th>2</th>\n",
       "      <td>Barking and Dagenham</td>\n",
       "      <td>NO2</td>\n",
       "      <td>Nitrogen Dioxide</td>\n",
       "      <td>1</td>\n",
       "      <td>51.529389</td>\n",
       "      <td>0.132857</td>\n",
       "      <td>Low</td>\n",
       "      <td>BG2</td>\n",
       "      <td>Scrattons Farm</td>\n",
       "      <td>NO2 is Low</td>\n",
       "      <td>2019-09-26 09:00:00</td>\n",
       "    </tr>\n",
       "    <tr>\n",
       "      <th>3</th>\n",
       "      <td>Barking and Dagenham</td>\n",
       "      <td>PM10</td>\n",
       "      <td>PM10 Particulate</td>\n",
       "      <td>1</td>\n",
       "      <td>51.529389</td>\n",
       "      <td>0.132857</td>\n",
       "      <td>Low</td>\n",
       "      <td>BG2</td>\n",
       "      <td>Scrattons Farm</td>\n",
       "      <td>PM10 is Low</td>\n",
       "      <td>2019-09-26 09:00:00</td>\n",
       "    </tr>\n",
       "    <tr>\n",
       "      <th>4</th>\n",
       "      <td>Bexley</td>\n",
       "      <td>NO2</td>\n",
       "      <td>Nitrogen Dioxide</td>\n",
       "      <td>1</td>\n",
       "      <td>51.4946486813055</td>\n",
       "      <td>0.137279111232178</td>\n",
       "      <td>Low</td>\n",
       "      <td>BQ7</td>\n",
       "      <td>Belvedere West</td>\n",
       "      <td>NO2 is Low</td>\n",
       "      <td>2019-09-26 09:00:00</td>\n",
       "    </tr>\n",
       "  </tbody>\n",
       "</table>\n",
       "</div>"
      ],
      "text/plain": [
       "                borough  code       description index          latitude  \\\n",
       "0  Barking and Dagenham   NO2  Nitrogen Dioxide     1         51.563752   \n",
       "1  Barking and Dagenham   SO2   Sulphur Dioxide     1         51.563752   \n",
       "2  Barking and Dagenham   NO2  Nitrogen Dioxide     1         51.529389   \n",
       "3  Barking and Dagenham  PM10  PM10 Particulate     1         51.529389   \n",
       "4                Bexley   NO2  Nitrogen Dioxide     1  51.4946486813055   \n",
       "\n",
       "           longitude quality site_code       site_name      summary  \\\n",
       "0           0.177891     Low       BG1      Rush Green   NO2 is Low   \n",
       "1           0.177891     Low       BG1      Rush Green   SO2 is Low   \n",
       "2           0.132857     Low       BG2  Scrattons Farm   NO2 is Low   \n",
       "3           0.132857     Low       BG2  Scrattons Farm  PM10 is Low   \n",
       "4  0.137279111232178     Low       BQ7  Belvedere West   NO2 is Low   \n",
       "\n",
       "               updated  \n",
       "0  2019-09-26 09:00:00  \n",
       "1  2019-09-26 09:00:00  \n",
       "2  2019-09-26 09:00:00  \n",
       "3  2019-09-26 09:00:00  \n",
       "4  2019-09-26 09:00:00  "
      ]
     },
     "execution_count": 13,
     "metadata": {},
     "output_type": "execute_result"
    }
   ],
   "source": [
    "df.head()"
   ]
  },
  {
   "cell_type": "code",
   "execution_count": null,
   "metadata": {},
   "outputs": [],
   "source": []
  }
 ],
 "metadata": {
  "kernelspec": {
   "display_name": "Python 3",
   "language": "python",
   "name": "python3"
  },
  "language_info": {
   "codemirror_mode": {
    "name": "ipython",
    "version": 3
   },
   "file_extension": ".py",
   "mimetype": "text/x-python",
   "name": "python",
   "nbconvert_exporter": "python",
   "pygments_lexer": "ipython3",
   "version": "3.7.3"
  }
 },
 "nbformat": 4,
 "nbformat_minor": 4
}
