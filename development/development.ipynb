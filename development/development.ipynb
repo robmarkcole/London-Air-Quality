{
 "cells": [
  {
   "cell_type": "markdown",
   "metadata": {},
   "source": [
    "notebook to show the steps behind the development, complements tests\n",
    "\n",
    "Source of data -> https://www.londonair.org.uk/LondonAir/Default.aspx\n",
    "\n",
    "Most of the functionality of this package is parsing the raw data which consists of nested dicts and returning data structures that are more convenient to work with.\n",
    "\n",
    "API for hourly returns data in format (see `hourly.json`):\n",
    "```\n",
    "LocalAuthority (Borough)\n",
    "    Site\n",
    "        Species (CO2, NO2)\n",
    "```\n",
    "\n",
    "Not all Boroughs have sites, and generally each site might have a different combination of species."
   ]
  },
  {
   "cell_type": "code",
   "execution_count": 21,
   "metadata": {},
   "outputs": [],
   "source": [
    "import sys\n",
    "import os\n",
    "import requests\n",
    "import json\n",
    "sys.path.insert(0, os.path.dirname(os.path.abspath('.'))) ## get parent dir\n",
    "import london_air_quality as laq\n",
    "\n",
    "# Optionals\n",
    "import pandas as pd # not a dependency\n",
    "import matplotlib.pyplot as plt\n",
    "%matplotlib inline"
   ]
  },
  {
   "cell_type": "markdown",
   "metadata": {},
   "source": [
    "## Capture API data for tests"
   ]
  },
  {
   "cell_type": "code",
   "execution_count": 22,
   "metadata": {},
   "outputs": [],
   "source": [
    "url = laq.LAQ_HOURLY_URL"
   ]
  },
  {
   "cell_type": "code",
   "execution_count": 35,
   "metadata": {},
   "outputs": [],
   "source": [
    "repsonse = requests.get(url)\n",
    "response_json = repsonse.json()\n",
    "# response_json = str(response_json).strip(\"'<>() \").replace('\\'', '\\\"') # strip some bad characters\n",
    "\n",
    "with open('hourly.json', 'w') as f:\n",
    "    json.dump(repsonse.json(), f)"
   ]
  },
  {
   "cell_type": "code",
   "execution_count": 33,
   "metadata": {},
   "outputs": [],
   "source": [
    "with open('hourly.json') as json_file:\n",
    "    data = json.load(json_file)"
   ]
  },
  {
   "cell_type": "code",
   "execution_count": 2,
   "metadata": {},
   "outputs": [],
   "source": [
    "# AUTHORITIES = ALL_AUTHORITIES # Check functionality with all "
   ]
  },
  {
   "cell_type": "code",
   "execution_count": 37,
   "metadata": {},
   "outputs": [],
   "source": [
    "try:\n",
    "    hourly_data_raw = laq.request_data(laq.LAQ_HOURLY_URL)\n",
    "except laq.LondonAirQualityException as exc:\n",
    "    print(exc)"
   ]
  },
  {
   "cell_type": "markdown",
   "metadata": {},
   "source": [
    "## Sites parsing\n",
    "Parse out the sites data for a single local authority"
   ]
  },
  {
   "cell_type": "code",
   "execution_count": 38,
   "metadata": {},
   "outputs": [
    {
     "data": {
      "text/plain": [
       "[{'@BulletinDate': '2019-09-26 11:00:00',\n",
       "  '@SiteCode': 'BG1',\n",
       "  '@SiteName': 'Barking and Dagenham - Rush Green',\n",
       "  '@SiteType': 'Suburban',\n",
       "  '@Latitude': '51.563752',\n",
       "  '@Longitude': '0.177891',\n",
       "  '@LatitudeWGS84': '6721627.34498',\n",
       "  '@LongitudeWGS84': '19802.7355367',\n",
       "  '@OwnerID': '1',\n",
       "  'Species': [{'@SpeciesCode': 'NO2',\n",
       "    '@SpeciesDescription': 'Nitrogen Dioxide',\n",
       "    '@AirQualityIndex': '0',\n",
       "    '@AirQualityBand': 'No data',\n",
       "    '@IndexSource': 'Measurement'},\n",
       "   {'@SpeciesCode': 'SO2',\n",
       "    '@SpeciesDescription': 'Sulphur Dioxide',\n",
       "    '@AirQualityIndex': '0',\n",
       "    '@AirQualityBand': 'No data',\n",
       "    '@IndexSource': 'Measurement'}]},\n",
       " {'@BulletinDate': '2019-09-26 11:00:00',\n",
       "  '@SiteCode': 'BG2',\n",
       "  '@SiteName': 'Barking and Dagenham - Scrattons Farm',\n",
       "  '@SiteType': 'Suburban',\n",
       "  '@Latitude': '51.529389',\n",
       "  '@Longitude': '0.132857',\n",
       "  '@LatitudeWGS84': '6715476.18683',\n",
       "  '@LongitudeWGS84': '14789.5735883',\n",
       "  '@OwnerID': '1',\n",
       "  'Species': [{'@SpeciesCode': 'NO2',\n",
       "    '@SpeciesDescription': 'Nitrogen Dioxide',\n",
       "    '@AirQualityIndex': '1',\n",
       "    '@AirQualityBand': 'Low',\n",
       "    '@IndexSource': 'Measurement'},\n",
       "   {'@SpeciesCode': 'PM10',\n",
       "    '@SpeciesDescription': 'PM10 Particulate',\n",
       "    '@AirQualityIndex': '1',\n",
       "    '@AirQualityBand': 'Low',\n",
       "    '@IndexSource': 'Trigger'}]}]"
      ]
     },
     "execution_count": 38,
     "metadata": {},
     "output_type": "execute_result"
    }
   ],
   "source": [
    "example_site = hourly_data_raw['HourlyAirQualityIndex']['LocalAuthority'][0]['Site']\n",
    "example_site"
   ]
  },
  {
   "cell_type": "code",
   "execution_count": 39,
   "metadata": {},
   "outputs": [
    {
     "data": {
      "text/plain": [
       "[{'updated': '2019-09-26 11:00:00',\n",
       "  'latitude': '51.563752',\n",
       "  'longitude': '0.177891',\n",
       "  'site_code': 'BG1',\n",
       "  'site_name': 'Rush Green',\n",
       "  'site_type': 'Suburban',\n",
       "  'pollutants': ['no_species_data'],\n",
       "  'pollutants_status': 'no_species_data',\n",
       "  'number_of_pollutants': 0},\n",
       " {'updated': '2019-09-26 11:00:00',\n",
       "  'latitude': '51.529389',\n",
       "  'longitude': '0.132857',\n",
       "  'site_code': 'BG2',\n",
       "  'site_name': 'Scrattons Farm',\n",
       "  'site_type': 'Suburban',\n",
       "  'pollutants': [{'description': 'Nitrogen Dioxide',\n",
       "    'code': 'NO2',\n",
       "    'quality': 'Low',\n",
       "    'index': '1',\n",
       "    'summary': 'NO2 is Low'},\n",
       "   {'description': 'PM10 Particulate',\n",
       "    'code': 'PM10',\n",
       "    'quality': 'Low',\n",
       "    'index': '1',\n",
       "    'summary': 'PM10 is Low'}],\n",
       "  'pollutants_status': 'Low',\n",
       "  'number_of_pollutants': 2}]"
      ]
     },
     "execution_count": 39,
     "metadata": {},
     "output_type": "execute_result"
    }
   ],
   "source": [
    "laq.parse_site(example_site)"
   ]
  },
  {
   "cell_type": "markdown",
   "metadata": {},
   "source": [
    "## Species parsing\n",
    "The species parsing"
   ]
  },
  {
   "cell_type": "code",
   "execution_count": 40,
   "metadata": {},
   "outputs": [
    {
     "data": {
      "text/plain": [
       "[{'@SpeciesCode': 'NO2',\n",
       "  '@SpeciesDescription': 'Nitrogen Dioxide',\n",
       "  '@AirQualityIndex': '0',\n",
       "  '@AirQualityBand': 'No data',\n",
       "  '@IndexSource': 'Measurement'},\n",
       " {'@SpeciesCode': 'SO2',\n",
       "  '@SpeciesDescription': 'Sulphur Dioxide',\n",
       "  '@AirQualityIndex': '0',\n",
       "  '@AirQualityBand': 'No data',\n",
       "  '@IndexSource': 'Measurement'}]"
      ]
     },
     "execution_count": 40,
     "metadata": {},
     "output_type": "execute_result"
    }
   ],
   "source": [
    "example_species = example_site[0]['Species']\n",
    "example_species"
   ]
  },
  {
   "cell_type": "code",
   "execution_count": 41,
   "metadata": {},
   "outputs": [
    {
     "data": {
      "text/plain": [
       "([], [])"
      ]
     },
     "execution_count": 41,
     "metadata": {},
     "output_type": "execute_result"
    }
   ],
   "source": [
    "laq.parse_species(example_species)"
   ]
  },
  {
   "cell_type": "markdown",
   "metadata": {},
   "source": [
    "## Package Usage"
   ]
  },
  {
   "cell_type": "code",
   "execution_count": 42,
   "metadata": {},
   "outputs": [],
   "source": [
    "hourly_data = laq.parse_hourly_response(hourly_data_raw)"
   ]
  },
  {
   "cell_type": "code",
   "execution_count": 43,
   "metadata": {},
   "outputs": [
    {
     "data": {
      "text/plain": [
       "[{'updated': '2019-09-26 11:00:00',\n",
       "  'latitude': '51.563752',\n",
       "  'longitude': '0.177891',\n",
       "  'site_code': 'BG1',\n",
       "  'site_name': 'Rush Green',\n",
       "  'site_type': 'Suburban',\n",
       "  'pollutants': ['no_species_data'],\n",
       "  'pollutants_status': 'no_species_data',\n",
       "  'number_of_pollutants': 0},\n",
       " {'updated': '2019-09-26 11:00:00',\n",
       "  'latitude': '51.529389',\n",
       "  'longitude': '0.132857',\n",
       "  'site_code': 'BG2',\n",
       "  'site_name': 'Scrattons Farm',\n",
       "  'site_type': 'Suburban',\n",
       "  'pollutants': [{'description': 'Nitrogen Dioxide',\n",
       "    'code': 'NO2',\n",
       "    'quality': 'Low',\n",
       "    'index': '1',\n",
       "    'summary': 'NO2 is Low'},\n",
       "   {'description': 'PM10 Particulate',\n",
       "    'code': 'PM10',\n",
       "    'quality': 'Low',\n",
       "    'index': '1',\n",
       "    'summary': 'PM10 is Low'}],\n",
       "  'pollutants_status': 'Low',\n",
       "  'number_of_pollutants': 2}]"
      ]
     },
     "execution_count": 43,
     "metadata": {},
     "output_type": "execute_result"
    }
   ],
   "source": [
    "hourly_data['Barking and Dagenham']"
   ]
  },
  {
   "cell_type": "markdown",
   "metadata": {},
   "source": [
    "## Dataframe\n",
    "We can also process the data into a list of dict that can be turned into a pandas dataframe (don't actually do this in the package as don't want pandas dependency)"
   ]
  },
  {
   "cell_type": "code",
   "execution_count": 11,
   "metadata": {},
   "outputs": [],
   "source": [
    "df = pd.DataFrame(laq.get_hourly_data_flat(hourly_data))"
   ]
  },
  {
   "cell_type": "code",
   "execution_count": 12,
   "metadata": {},
   "outputs": [
    {
     "data": {
      "text/html": [
       "<div>\n",
       "<style scoped>\n",
       "    .dataframe tbody tr th:only-of-type {\n",
       "        vertical-align: middle;\n",
       "    }\n",
       "\n",
       "    .dataframe tbody tr th {\n",
       "        vertical-align: top;\n",
       "    }\n",
       "\n",
       "    .dataframe thead th {\n",
       "        text-align: right;\n",
       "    }\n",
       "</style>\n",
       "<table border=\"1\" class=\"dataframe\">\n",
       "  <thead>\n",
       "    <tr style=\"text-align: right;\">\n",
       "      <th></th>\n",
       "      <th>borough</th>\n",
       "      <th>code</th>\n",
       "      <th>description</th>\n",
       "      <th>index</th>\n",
       "      <th>latitude</th>\n",
       "      <th>longitude</th>\n",
       "      <th>quality</th>\n",
       "      <th>site_code</th>\n",
       "      <th>site_name</th>\n",
       "      <th>summary</th>\n",
       "      <th>updated</th>\n",
       "    </tr>\n",
       "  </thead>\n",
       "  <tbody>\n",
       "    <tr>\n",
       "      <th>0</th>\n",
       "      <td>Barking and Dagenham</td>\n",
       "      <td>NO2</td>\n",
       "      <td>Nitrogen Dioxide</td>\n",
       "      <td>1</td>\n",
       "      <td>51.563752</td>\n",
       "      <td>0.177891</td>\n",
       "      <td>Low</td>\n",
       "      <td>BG1</td>\n",
       "      <td>Rush Green</td>\n",
       "      <td>NO2 is Low</td>\n",
       "      <td>2019-09-26 09:00:00</td>\n",
       "    </tr>\n",
       "    <tr>\n",
       "      <th>1</th>\n",
       "      <td>Barking and Dagenham</td>\n",
       "      <td>SO2</td>\n",
       "      <td>Sulphur Dioxide</td>\n",
       "      <td>1</td>\n",
       "      <td>51.563752</td>\n",
       "      <td>0.177891</td>\n",
       "      <td>Low</td>\n",
       "      <td>BG1</td>\n",
       "      <td>Rush Green</td>\n",
       "      <td>SO2 is Low</td>\n",
       "      <td>2019-09-26 09:00:00</td>\n",
       "    </tr>\n",
       "    <tr>\n",
       "      <th>2</th>\n",
       "      <td>Barking and Dagenham</td>\n",
       "      <td>NO2</td>\n",
       "      <td>Nitrogen Dioxide</td>\n",
       "      <td>1</td>\n",
       "      <td>51.529389</td>\n",
       "      <td>0.132857</td>\n",
       "      <td>Low</td>\n",
       "      <td>BG2</td>\n",
       "      <td>Scrattons Farm</td>\n",
       "      <td>NO2 is Low</td>\n",
       "      <td>2019-09-26 09:00:00</td>\n",
       "    </tr>\n",
       "    <tr>\n",
       "      <th>3</th>\n",
       "      <td>Barking and Dagenham</td>\n",
       "      <td>PM10</td>\n",
       "      <td>PM10 Particulate</td>\n",
       "      <td>1</td>\n",
       "      <td>51.529389</td>\n",
       "      <td>0.132857</td>\n",
       "      <td>Low</td>\n",
       "      <td>BG2</td>\n",
       "      <td>Scrattons Farm</td>\n",
       "      <td>PM10 is Low</td>\n",
       "      <td>2019-09-26 09:00:00</td>\n",
       "    </tr>\n",
       "    <tr>\n",
       "      <th>4</th>\n",
       "      <td>Bexley</td>\n",
       "      <td>NO2</td>\n",
       "      <td>Nitrogen Dioxide</td>\n",
       "      <td>1</td>\n",
       "      <td>51.4946486813055</td>\n",
       "      <td>0.137279111232178</td>\n",
       "      <td>Low</td>\n",
       "      <td>BQ7</td>\n",
       "      <td>Belvedere West</td>\n",
       "      <td>NO2 is Low</td>\n",
       "      <td>2019-09-26 09:00:00</td>\n",
       "    </tr>\n",
       "  </tbody>\n",
       "</table>\n",
       "</div>"
      ],
      "text/plain": [
       "                borough  code       description index          latitude  \\\n",
       "0  Barking and Dagenham   NO2  Nitrogen Dioxide     1         51.563752   \n",
       "1  Barking and Dagenham   SO2   Sulphur Dioxide     1         51.563752   \n",
       "2  Barking and Dagenham   NO2  Nitrogen Dioxide     1         51.529389   \n",
       "3  Barking and Dagenham  PM10  PM10 Particulate     1         51.529389   \n",
       "4                Bexley   NO2  Nitrogen Dioxide     1  51.4946486813055   \n",
       "\n",
       "           longitude quality site_code       site_name      summary  \\\n",
       "0           0.177891     Low       BG1      Rush Green   NO2 is Low   \n",
       "1           0.177891     Low       BG1      Rush Green   SO2 is Low   \n",
       "2           0.132857     Low       BG2  Scrattons Farm   NO2 is Low   \n",
       "3           0.132857     Low       BG2  Scrattons Farm  PM10 is Low   \n",
       "4  0.137279111232178     Low       BQ7  Belvedere West   NO2 is Low   \n",
       "\n",
       "               updated  \n",
       "0  2019-09-26 09:00:00  \n",
       "1  2019-09-26 09:00:00  \n",
       "2  2019-09-26 09:00:00  \n",
       "3  2019-09-26 09:00:00  \n",
       "4  2019-09-26 09:00:00  "
      ]
     },
     "execution_count": 12,
     "metadata": {},
     "output_type": "execute_result"
    }
   ],
   "source": [
    "df.head()"
   ]
  },
  {
   "cell_type": "code",
   "execution_count": 13,
   "metadata": {},
   "outputs": [
    {
     "name": "stdout",
     "output_type": "stream",
     "text": [
      "['Barking and Dagenham' 'Bexley' 'Brent' 'Camden' 'City of London'\n",
      " 'Croydon' 'Ealing' 'Enfield' 'Greenwich' 'Hackney' 'Haringey' 'Harrow'\n",
      " 'Havering' 'Hillingdon' 'Islington' 'Kensington and Chelsea' 'Kingston'\n",
      " 'Lambeth' 'Lewisham' 'Merton' 'Redbridge' 'Richmond' 'Southwark' 'Sutton'\n",
      " 'Tower Hamlets' 'Wandsworth' 'Westminster']\n"
     ]
    },
    {
     "data": {
      "text/plain": [
       "27"
      ]
     },
     "execution_count": 13,
     "metadata": {},
     "output_type": "execute_result"
    }
   ],
   "source": [
    "boroughs_with_data = df['borough'].unique()\n",
    "print(boroughs_with_data)\n",
    "len(boroughs_with_data)"
   ]
  },
  {
   "cell_type": "code",
   "execution_count": 17,
   "metadata": {},
   "outputs": [
    {
     "data": {
      "text/plain": [
       "NO2     80\n",
       "PM10    62\n",
       "PM25    18\n",
       "O3      17\n",
       "SO2      5\n",
       "Name: code, dtype: int64"
      ]
     },
     "execution_count": 17,
     "metadata": {},
     "output_type": "execute_result"
    }
   ],
   "source": [
    "df['code'].value_counts()"
   ]
  },
  {
   "cell_type": "code",
   "execution_count": 18,
   "metadata": {},
   "outputs": [
    {
     "data": {
      "text/plain": [
       "Low    182\n",
       "Name: quality, dtype: int64"
      ]
     },
     "execution_count": 18,
     "metadata": {},
     "output_type": "execute_result"
    }
   ],
   "source": [
    "df['quality'].value_counts()"
   ]
  },
  {
   "cell_type": "code",
   "execution_count": 19,
   "metadata": {},
   "outputs": [
    {
     "data": {
      "text/plain": [
       "1    160\n",
       "2     22\n",
       "Name: index, dtype: int64"
      ]
     },
     "execution_count": 19,
     "metadata": {},
     "output_type": "execute_result"
    }
   ],
   "source": [
    "df['index'].value_counts()"
   ]
  },
  {
   "cell_type": "code",
   "execution_count": null,
   "metadata": {},
   "outputs": [],
   "source": []
  }
 ],
 "metadata": {
  "kernelspec": {
   "display_name": "Python 3",
   "language": "python",
   "name": "python3"
  },
  "language_info": {
   "codemirror_mode": {
    "name": "ipython",
    "version": 3
   },
   "file_extension": ".py",
   "mimetype": "text/x-python",
   "name": "python",
   "nbconvert_exporter": "python",
   "pygments_lexer": "ipython3",
   "version": "3.7.3"
  }
 },
 "nbformat": 4,
 "nbformat_minor": 4
}
